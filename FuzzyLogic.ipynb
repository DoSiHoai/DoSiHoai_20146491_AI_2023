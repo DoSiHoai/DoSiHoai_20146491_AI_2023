{
  "nbformat": 4,
  "nbformat_minor": 0,
  "metadata": {
    "colab": {
      "provenance": [],
      "authorship_tag": "ABX9TyPmub9vngmllX1tHxAQUES5",
      "include_colab_link": true
    },
    "kernelspec": {
      "name": "python3",
      "display_name": "Python 3"
    },
    "language_info": {
      "name": "python"
    }
  },
  "cells": [
    {
      "cell_type": "markdown",
      "metadata": {
        "id": "view-in-github",
        "colab_type": "text"
      },
      "source": [
        "<a href=\"https://colab.research.google.com/github/DoSiHoai/DoSiHoai_20146491_AI_2023/blob/main/FuzzyLogic.ipynb\" target=\"_parent\"><img src=\"https://colab.research.google.com/assets/colab-badge.svg\" alt=\"Open In Colab\"/></a>"
      ]
    },
    {
      "cell_type": "code",
      "execution_count": null,
      "metadata": {
        "colab": {
          "base_uri": "https://localhost:8080/"
        },
        "id": "cNE0GOpMKSZv",
        "outputId": "4429fc69-018d-49ea-b18e-ebed0e22d9c8"
      },
      "outputs": [
        {
          "output_type": "stream",
          "name": "stdout",
          "text": [
            "Looking in indexes: https://pypi.org/simple, https://us-python.pkg.dev/colab-wheels/public/simple/\n",
            "Collecting scikit-fuzzy\n",
            "  Downloading scikit-fuzzy-0.4.2.tar.gz (993 kB)\n",
            "\u001b[2K     \u001b[90m━━━━━━━━━━━━━━━━━━━━━━━━━━━━━━━━━━━━━━\u001b[0m \u001b[32m994.0/994.0 KB\u001b[0m \u001b[31m11.0 MB/s\u001b[0m eta \u001b[36m0:00:00\u001b[0m\n",
            "\u001b[?25h  Preparing metadata (setup.py) ... \u001b[?25l\u001b[?25hdone\n",
            "Requirement already satisfied: numpy>=1.6.0 in /usr/local/lib/python3.8/dist-packages (from scikit-fuzzy) (1.22.4)\n",
            "Requirement already satisfied: scipy>=0.9.0 in /usr/local/lib/python3.8/dist-packages (from scikit-fuzzy) (1.10.1)\n",
            "Requirement already satisfied: networkx>=1.9.0 in /usr/local/lib/python3.8/dist-packages (from scikit-fuzzy) (3.0)\n",
            "Building wheels for collected packages: scikit-fuzzy\n",
            "  Building wheel for scikit-fuzzy (setup.py) ... \u001b[?25l\u001b[?25hdone\n",
            "  Created wheel for scikit-fuzzy: filename=scikit_fuzzy-0.4.2-py3-none-any.whl size=894088 sha256=3f16c231171bafc74f002459341867ac649ba6896262fa6e0970f6faa592d395\n",
            "  Stored in directory: /root/.cache/pip/wheels/2c/04/80/7eefb1a2de7d36aefd06432fab2a1486caf0a0596a7067391a\n",
            "Successfully built scikit-fuzzy\n",
            "Installing collected packages: scikit-fuzzy\n",
            "Successfully installed scikit-fuzzy-0.4.2\n"
          ]
        }
      ],
      "source": [
        "pip install -U scikit-fuzzy\n"
      ]
    },
    {
      "cell_type": "code",
      "source": [
        "import numpy as np\n",
        "import skfuzzy as fuzz\n",
        "import matplotlib.pyplot as plt\n",
        "from skfuzzy import control as ctrl \n",
        "fever = ctrl.Antecedent(np.arange(0, 11, 1),'Fever')\n",
        "headache = ctrl.Antecedent(np.arange(0, 11, 1),'Headache')\n",
        "nausea = ctrl.Consequent(np.arange(0, 11, 1),'Nausea')\n",
        "vomiting = ctrl.Consequent(np.arange(0, 11, 1),'Vomiting')\n",
        "jaundice = ctrl.Consequent(np.arange(0, 11, 1),'Jaundice')\n",
        "enlargeLiver = ctrl.Consequent(np.arange(0, 11, 1),'EnlargeLiver')\n",
        "jointPaine = ctrl.Consequent(np.arange(0, 11, 1),'JointPain')\n",
        "bodyWeakness = ctrl.Consequent(np.arange(0, 11, 1),'BodyWeakness')\n",
        "dizziness = ctrl.Consequent(np.arange(0, 11, 1),'Dizziness')\n",
        "lossofAppetite = ctrl.Consequent(np.arange(0, 11, 1),'LossofAppetite')\n",
        "mp = ctrl.Consequent(np.arange(0, 11, 1),'MP')\n",
        "conclusion = ctrl.Consequent(np.arange(0, 11, 1),'Conclusion')\n",
        "\n",
        "fever['mild'] = fuzz.trimf(fever.universe, [0,4,8])\n",
        "fever['severe'] = fuzz.trimf(fever.universe, [8,9,10])\n",
        "fever['very severe'] = fuzz.trimf(fever.universe, [9,9.5,10])\n",
        "fever['moderate'] = fuzz.trimf(fever.universe, [0,10,10])\n",
        "\n",
        "headache['mild'] = fuzz.trimf(headache.universe, [0,4,8])\n",
        "headache['severe'] = fuzz.trimf(headache.universe, [8,9,10])\n",
        "headache['very severe'] = fuzz.trimf(headache.universe, [9,9.5,10])\n",
        "headache['moderate'] = fuzz.trimf(headache.universe, [0,10,10])\n",
        "\n",
        "nausea['mild'] = fuzz.trimf(nausea.universe, [0,4,8])\n",
        "nausea['severe'] = fuzz.trimf(nausea.universe, [8,9,10])\n",
        "nausea['very severe'] = fuzz.trimf(nausea.universe, [9,9.5,10])\n",
        "nausea['moderate'] = fuzz.trimf(nausea.universe, [0,10,10])\n",
        "\n",
        "vomiting['mild'] = fuzz.trimf(vomiting.universe, [0,4,8])\n",
        "vomiting['severe'] = fuzz.trimf(vomiting.universe, [8,9,10])\n",
        "vomiting['very severe'] = fuzz.trimf(vomiting.universe, [9,9.5,10])\n",
        "vomiting['moderate'] = fuzz.trimf(vomiting.universe, [0,10,10])\n",
        "\n",
        "jaundice['mild'] = fuzz.trimf(jaundice.universe, [0,4,8])\n",
        "jaundice['severe'] = fuzz.trimf(jaundice.universe, [8,9,10])\n",
        "jaundice['very severe'] = fuzz.trimf(jaundice.universe, [9,9.5,10])\n",
        "jaundice['moderate'] = fuzz.trimf(jaundice.universe, [0,10,10])\n",
        "\n",
        "enlargeLiver['mild'] = fuzz.trimf(enlargeLiver.universe, [0,4,8])\n",
        "enlargeLiver['severe'] = fuzz.trimf(enlargeLiver.universe, [8,9,10])\n",
        "enlargeLiver['very severe'] = fuzz.trimf(enlargeLiver.universe, [9,9.5,10])\n",
        "enlargeLiver['moderate'] = fuzz.trimf(enlargeLiver.universe, [0,10,10])\n",
        "\n",
        "jointPaine['mild'] = fuzz.trimf(jointPaine.universe, [0,4,8])\n",
        "jointPaine['severe'] = fuzz.trimf(jointPaine.universe, [8,9,10])\n",
        "jointPaine['very severe'] = fuzz.trimf(jointPaine.universe, [9,9.5,10])\n",
        "jointPaine['moderate'] = fuzz.trimf(jointPaine.universe, [0,10,10])\n",
        "\n",
        "bodyWeakness['mild'] = fuzz.trimf(bodyWeakness.universe, [0,4,8])\n",
        "bodyWeakness['severe'] = fuzz.trimf(bodyWeakness.universe, [8,9,10])\n",
        "bodyWeakness['very severe'] = fuzz.trimf(bodyWeakness.universe, [9,9.5,10])\n",
        "bodyWeakness['moderate'] = fuzz.trimf(bodyWeakness.universe, [0,10,10])\n",
        "\n",
        "dizziness['mild'] = fuzz.trimf(dizziness.universe, [0,4,8])\n",
        "dizziness['severe'] = fuzz.trimf(dizziness.universe, [8,9,10])\n",
        "dizziness['very severe'] = fuzz.trimf(dizziness.universe, [9,9.5,10])\n",
        "dizziness['moderate'] = fuzz.trimf(dizziness.universe, [0,10,10])\n",
        "\n",
        "lossofAppetite['mild'] = fuzz.trimf(lossofAppetite.universe, [0,4,8])\n",
        "lossofAppetite['severe'] = fuzz.trimf(lossofAppetite.universe, [8,9,10])\n",
        "lossofAppetite['very severe'] = fuzz.trimf(lossofAppetite.universe, [9,9.5,10])\n",
        "lossofAppetite['moderate'] = fuzz.trimf(lossofAppetite.universe, [0,10,10])\n",
        "\n",
        "mp['mild'] = fuzz.trimf(mp.universe, [0,4,8])\n",
        "mp['severe'] = fuzz.trimf(mp.universe, [8,9,10])\n",
        "mp['very severe'] = fuzz.trimf(mp.universe, [9,9.5,10])\n",
        "mp['moderate'] = fuzz.trimf(mp.universe, [0,10,10])\n",
        "\n",
        "conclusion['mild'] = fuzz.trimf(conclusion.universe, [0,4,8])\n",
        "conclusion['severe'] = fuzz.trimf(conclusion.universe, [8,9,10])\n",
        "conclusion['very severe'] = fuzz.trimf(conclusion.universe, [9,9.5,10])\n",
        "conclusion['moderate'] = fuzz.trimf(conclusion.universe, [0,10,10])\n",
        "\n",
        "rule1 = ctrl.Rule(fever['mild'] & headache['mild'] & nausea['mild'] & vomiting['mild'] & jaundice['mild'] & enlargeLiver['mild'] & jointPaine['mild'] & bodyWeakness['mild'] & dizziness['severe'] & lossofAppetite['mild'] & mp['mild'], conclusion['mild'])\n",
        "rule2 = ctrl.Rule(fever['moderate'] & headache['mild'] & nausea['mild'] & vomiting['mild'] & jaundice['mild'] & enlargeLiver['mild'] & jointPaine['moderate'] & bodyWeakness['moderate'] & dizziness['moderate'] & lossofAppetite['severe'] & mp['moderate'], conclusion['moderate'])\n",
        "rule3 = ctrl.Rule(fever['severe'] & headache['moderate'] & nausea['mild'] & vomiting['mild'] & jaundice['mild'] & enlargeLiver['mild'] & jointPaine['mild'] & bodyWeakness['severe'] & dizziness['severe'] & lossofAppetite['severe'] & mp['moderate'], conclusion['severe'])\n",
        "rule4 = ctrl.Rule(fever['very severe'] & headache['mild'] & nausea['mild'] & vomiting['mild'] & jaundice['mild'] & enlargeLiver['mild'] & jointPaine['severe'] & bodyWeakness['severe'] & dizziness['mild'] & lossofAppetite['mild'] & mp['severe'], conclusion['very severe'])\n",
        "rule5 = ctrl.Rule(fever['moderate'] & headache['mild'] & nausea['mild'] & vomiting['moderate'] & jaundice['mild'] & enlargeLiver['mild'] & jointPaine['moderate'] & bodyWeakness['moderate'] & dizziness['moderate'] & lossofAppetite['severe'] & mp['moderate'], conclusion['moderate'])\n",
        "rule6 = ctrl.Rule(fever['mild'] & headache['moderate'] & nausea['moderate'] & vomiting['mild'] & jaundice['mild'] & enlargeLiver['mild'] & jointPaine['mild'] & bodyWeakness['mild'] & dizziness['moderate'] & lossofAppetite['mild'] & mp['mild'], conclusion['mild'])\n",
        "rule7 = ctrl.Rule(fever['mild'] & headache['mild'] & nausea['moderate'] & vomiting['moderate'] & jaundice['mild'] & enlargeLiver['mild'] & jointPaine['severe'] & bodyWeakness['severe'] & dizziness['moderate'] & lossofAppetite['moderate'] & mp['moderate'], conclusion['severe'])\n",
        "rule8 = ctrl.Rule(fever['moderate'] & headache['moderate'] & nausea['moderate'] & vomiting['moderate'] & jaundice['moderate'] & enlargeLiver['moderate'] & jointPaine['moderate'] & bodyWeakness['moderate'] & dizziness['moderate'] & lossofAppetite['moderate'] & mp['moderate'], conclusion['moderate'])\n",
        "rule9 = ctrl.Rule(fever['moderate'] & headache['mild'] & nausea['moderate'] & vomiting['moderate'] & jaundice['mild'] & enlargeLiver['severe'] & jointPaine['moderate'] & bodyWeakness['moderate'] & dizziness['severe'] & lossofAppetite['moderate'] & mp['moderate'], conclusion['moderate'])\n",
        "rule10 = ctrl.Rule(fever['mild'] & headache['mild'] & nausea['moderate'] & vomiting['moderate'] & jaundice['mild'] & enlargeLiver['moderate'] & jointPaine['mild'] & bodyWeakness['mild'] & dizziness['mild'] & lossofAppetite['mild'] & mp['mild'], conclusion['mild'])\n",
        "rule11 = ctrl.Rule(fever['severe'] & headache['severe'] & nausea['severe'] & vomiting['severe'] & jaundice['severe'] & enlargeLiver['severe'] & jointPaine['severe'] & bodyWeakness['very severe'] & dizziness['severe'] & lossofAppetite['severe'] & mp['moderate'], conclusion['very severe'])\n",
        "rule12 = ctrl.Rule(fever['severe'] & headache['severe'] & nausea['moderate'] & vomiting['severe'] & jaundice['moderate'] & enlargeLiver['severe'] & jointPaine['moderate'] & bodyWeakness['severe'] & dizziness['moderate'] & lossofAppetite['mild'] & mp['moderate'], conclusion['severe'])\n",
        "rule13 = ctrl.Rule(fever['moderate'] & headache['moderate'] & nausea['moderate'] & vomiting['moderate'] & jaundice['mild'] & enlargeLiver['mild'] & jointPaine['mild'] & bodyWeakness['moderate'] & dizziness['mild'] & lossofAppetite['moderate'] & mp['moderate'], conclusion['moderate'])\n",
        "rule14 = ctrl.Rule(fever['severe'] & headache['severe'] & nausea['moderate'] & vomiting['severe'] & jaundice['severe'] & enlargeLiver['severe'] & jointPaine['severe'] & bodyWeakness['severe'] & dizziness['moderate'] & lossofAppetite['moderate'] & mp['severe'], conclusion['severe'])\n",
        "rule15 = ctrl.Rule(fever['mild'] & headache['mild'] & nausea['mild'] & vomiting['moderate'] & jaundice['mild'] & enlargeLiver['mild'] & jointPaine['mild'] & bodyWeakness['severe'] & dizziness['mild'] & lossofAppetite['severe'] & mp['moderate'], conclusion['severe'])\n",
        "rule16 = ctrl.Rule(fever['moderate'] & headache['moderate'] & nausea['mild'] & vomiting['moderate'] & jaundice['severe'] & enlargeLiver['moderate'] & jointPaine['mild'] & bodyWeakness['very severe'] & dizziness['severe'] & lossofAppetite['mild'] & mp['moderate'], conclusion['very severe'])\n",
        "rule17 = ctrl.Rule(fever['very severe'] & headache['very severe'] & nausea['moderate'] & vomiting['moderate'] & jaundice['mild'] & enlargeLiver['moderate'] & jointPaine['mild'] & bodyWeakness['moderate'] & dizziness['very severe'] & lossofAppetite['mild'] & mp['moderate'], conclusion['very severe'])\n",
        "rule18 = ctrl.Rule(fever['very severe'] & headache['very severe'] & nausea['very severe'] & vomiting['mild'] & jaundice['severe'] & enlargeLiver['severe'] & jointPaine['moderate'] & bodyWeakness['severe'] & dizziness['very severe'] & lossofAppetite['very severe'] & mp['severe'], conclusion['very severe'])\n",
        "rule19 = ctrl.Rule(fever['moderate'] & headache['moderate'] & nausea['moderate'] & vomiting['moderate'] & jaundice['mild'] & enlargeLiver['mild'] & jointPaine['moderate'] & bodyWeakness['moderate'] & dizziness['moderate'] & lossofAppetite['moderate'] & mp['moderate'], conclusion['moderate'])\n",
        "rule20 = ctrl.Rule(fever['severe'] & headache['severe'] & nausea['severe'] & vomiting['severe'] & jaundice['severe'] & enlargeLiver['severe'] & jointPaine['severe'] & bodyWeakness['severe'] & dizziness['severe'] & lossofAppetite['moderate'] & mp['moderate'], conclusion['very severe'])\n",
        "\n",
        "conclusion_ctrl = ctrl.ControlSystem([rule1, rule2, rule3, rule4, rule5, rule6, rule7, rule8, rule9, rule10, rule11, rule12, rule13, rule14, rule15, rule16, rule17, rule18, rule19, rule20])\n",
        "conclusion = ctrl.ControlSystemSimulation(conclusion_ctrl)\n",
        "conclusion.input['Fever'] = 8\n",
        "conclusion.input['Headache'] = 7\n",
        "conclusion.input['Nausea'] = 5\n",
        "conclusion.input['Vomiting'] = 7\n",
        "conclusion.input['Jaundice'] = 6\n",
        "conclusion.input['EnlargeLiver'] = 10\n",
        "conclusion.input['JointPain'] = 9\n",
        "conclusion.input['BodyWeakness'] = 8\n",
        "conclusion.input['Dizziness'] = 6\n",
        "conclusion.input['LossofAppetite'] = 7\n",
        "conclusion.input['MP'] = 9\n",
        "conclusion.compute()\n",
        "print(conclusion.output['Conclusion'])\n",
        "conclusion.view(sim = conclusion)"
      ],
      "metadata": {
        "id": "ljieOlj7KeuY"
      },
      "execution_count": null,
      "outputs": []
    }
  ]
}